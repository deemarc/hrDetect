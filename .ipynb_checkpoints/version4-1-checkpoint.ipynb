{
 "cells": [
  {
   "cell_type": "markdown",
   "metadata": {},
   "source": [
    "# Kernel4\n",
    "\n",
    "now we wrap the video into the library and we wil try to use it here"
   ]
  },
  {
   "cell_type": "code",
   "execution_count": 1,
   "metadata": {},
   "outputs": [],
   "source": [
    "import cv2\n",
    "import numpy as np\n",
    "import os\n",
    "import glob\n",
    "import matplotlib.pyplot as plt\n",
    "from video_handle.videoHandle import videoHandle"
   ]
  },
  {
   "cell_type": "code",
   "execution_count": 2,
   "metadata": {},
   "outputs": [
    {
     "name": "stdout",
     "output_type": "stream",
     "text": [
      "initiate empyt video handle with index at 0\n",
      "from file path :./video_in/, we obtain 1 videos\n"
     ]
    }
   ],
   "source": [
    "vidHand = videoHandle()\n",
    "vidHand.getVideoList('./video_in/')"
   ]
  },
  {
   "cell_type": "code",
   "execution_count": 3,
   "metadata": {},
   "outputs": [
    {
     "name": "stdout",
     "output_type": "stream",
     "text": [
      "Frames per second using video.get(cv2.CAP_PROP_FPS) : 30.00003000003\n"
     ]
    },
    {
     "data": {
      "text/plain": [
       "True"
      ]
     },
     "execution_count": 3,
     "metadata": {},
     "output_type": "execute_result"
    }
   ],
   "source": [
    "vidHand.openVideo()"
   ]
  },
  {
   "cell_type": "markdown",
   "metadata": {},
   "source": [
    "## finding Roi"
   ]
  },
  {
   "cell_type": "code",
   "execution_count": 4,
   "metadata": {},
   "outputs": [],
   "source": [
    "# for i in range(vidHand.vid_in.vidInfo.totFrame):\n",
    "#     print(i)\n",
    "import face_recognition\n",
    "\n",
    "def find_roi(img_in):\n",
    "    \n",
    "    # here the part to develop the pipeline of the filer\n",
    "    rgb_img = cv2.cvtColor(img_in, cv2.COLOR_BGR2RGB)\n",
    "    face_landmarks_list = face_recognition.face_landmarks(rgb_img)\n",
    "    people_num = len(face_landmarks_list)\n",
    "    print(\"I found {} face(s) in this photograph.\".format(people_num))\n",
    "    if people_num == 0:\n",
    "        return False, [], []\n",
    "\n",
    "    # working with only the first face\n",
    "    face_landmarks = face_landmarks_list[0]  \n",
    "\n",
    "    \n",
    "    chin_list = face_landmarks['chin']\n",
    "    x1 = chin_list[0][0]\n",
    "    y1 = chin_list[0][1]\n",
    "    x2 = chin_list[len(chin_list)-1][0]\n",
    "    y2 = chin_list[int((len(chin_list)-1)/2)][1]\n",
    "    # img_out = roi_draw(rgb_img,x1,y1,x2,y2)\n",
    "    y_dis = y2 - y1\n",
    "    y0 = int(y1 - 0.6*y_dis)\n",
    "#     dist_x = x2 - x1\n",
    "#     dist_y = y2 - y0\n",
    "    return True, [x1,y0], [x2,y2]"
   ]
  },
  {
   "cell_type": "code",
   "execution_count": 8,
   "metadata": {},
   "outputs": [
    {
     "name": "stdout",
     "output_type": "stream",
     "text": [
      "I found 1 face(s) in this photograph.\n",
      "done\n"
     ]
    }
   ],
   "source": [
    "try:\n",
    "    while(True):\n",
    "        ret, frame = vidHand.readFrame()\n",
    "        if not ret:\n",
    "            print(ret)\n",
    "            break\n",
    "        roi_avai, pts_st, pts_end = find_roi(frame)\n",
    "        if roi_avai:\n",
    "            break\n",
    "    vidHand.closeVideo(dir=0)\n",
    "    cv2.destroyAllWindows()\n",
    "    print('done')\n",
    "except:\n",
    "    vidHand.closeVideo(dir=0)\n",
    "    cv2.destroyAllWindows()\n",
    "    print('fail')"
   ]
  },
  {
   "cell_type": "code",
   "execution_count": null,
   "metadata": {},
   "outputs": [],
   "source": []
  }
 ],
 "metadata": {
  "kernelspec": {
   "display_name": "Python 3",
   "language": "python",
   "name": "python3"
  },
  "language_info": {
   "codemirror_mode": {
    "name": "ipython",
    "version": 3
   },
   "file_extension": ".py",
   "mimetype": "text/x-python",
   "name": "python",
   "nbconvert_exporter": "python",
   "pygments_lexer": "ipython3",
   "version": "3.5.5"
  }
 },
 "nbformat": 4,
 "nbformat_minor": 2
}
