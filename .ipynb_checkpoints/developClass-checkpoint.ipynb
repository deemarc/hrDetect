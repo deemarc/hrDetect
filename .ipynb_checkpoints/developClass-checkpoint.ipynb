{
 "cells": [
  {
   "cell_type": "markdown",
   "metadata": {},
   "source": [
    "# Class Development\n",
    "\n",
    "after develop for a while I found it quite irratating that some of the code need to be written again, and again. So here we will wrap some procedure up in some class or object and I hope it will makes my work a little bit easier :)"
   ]
  },
  {
   "cell_type": "code",
   "execution_count": 1,
   "metadata": {},
   "outputs": [
    {
     "name": "stdout",
     "output_type": "stream",
     "text": [
      "['./video_in/HeartRate_2.avi']\n",
      "<class 'list'>\n"
     ]
    }
   ],
   "source": [
    "import glob\n",
    "videos = glob.glob('./video_in/*.avi')\n",
    "print(videos)\n",
    "print(type(videos))"
   ]
  },
  {
   "cell_type": "code",
   "execution_count": 3,
   "metadata": {},
   "outputs": [],
   "source": [
    "import os\n",
    "import glob\n",
    "import cv2\n",
    "\n",
    "class videoInfo:\n",
    "    def __init__(self,fps,totalFrame):\n",
    "        self.fps = fps\n",
    "        self.totFrame = totalFrame\n",
    "class videoHandle:\n",
    "    def __init__(self, verbose=True):\n",
    "        self.vidInList = []\n",
    "        self.vidInIndex = 0\n",
    "        self.vidInRunning = False\n",
    "        self.curFrame = []\n",
    "        self.vidCap = []\n",
    "        \n",
    "        if verbose:\n",
    "            print('initiate empyt video handle with index at ' + str(self.vidIndex))\n",
    "        \n",
    "    def getVideoList(self, filePath, fileExtension=['avi'], verbose=True):\n",
    "        vidNum = 0\n",
    "        if not filePath.endswith('/'):\n",
    "            filePath = filePath + '/'\n",
    "        for ext in fileExtension:\n",
    "            regString = filePath + '*' + ext\n",
    "            videos = glob.glob(regString)\n",
    "            self.vidList += videos\n",
    "            vidNum = vidNum + len(videos)\n",
    "        if verbose:\n",
    "            print('from file path :{0}, we obtain {1} videos'.format(filePath,vidNum))\n",
    "            \n",
    "    def getVideoName(self, verbose=True):\n",
    "        # assign it to internal variable just to make the code more readable\n",
    "        videos = self.vidList\n",
    "        index = self.vidIndex\n",
    "        filename_ext = os.path.basename(videos[index])\n",
    "        filename, file_extension  = os.path.splitext(filename_ext)\n",
    "        if verbose:\n",
    "            print('fileName:{0}.'.format(filename))\n",
    "        return filename\n",
    "    \n",
    "    def nextVideo(self, verbose=True):\n",
    "        videos = self.vidList\n",
    "        index = self.vidIndex\n",
    "        if (index +1) >= len(videos):\n",
    "            self.index = 0\n",
    "        else:\n",
    "            self.index = index + 1\n",
    "        if verbose:\n",
    "            print('Next index:{0}'.format(self.index))\n",
    "        return self.getVideoName(verbose=verbose)\n",
    "    \n",
    "    def openVideo(self, verbose=True):\n",
    "        videos = self.vidList\n",
    "        index = self.vidIndex\n",
    "        if self.vidRunning:\n",
    "            if verbose:\n",
    "                print('releasing the current video capture')\n",
    "                self.vidCap.release()\n",
    "        self.vidCap = cv2.VideoCapture(videos[index])\n",
    "        try:\n",
    "            # Find OpenCV version\n",
    "            (major_ver, minor_ver, subminor_ver) = (cv2.__version__).split('.')\n",
    "            if int(major_ver)  < 3 :\n",
    "                fps = self.vidCap.get(cv2.cv.CV_CAP_PROP_FPS)\n",
    "                total = int(self.vidCap.get(cv2.cv.CAP_PROP_FRAME_COUNT))\n",
    "                if verbose:\n",
    "                    print(\"Frames per second using video.get(cv2.cv.CV_CAP_PROP_FPS): {0}\".format(fps))\n",
    "            else :\n",
    "                fps = self.vidCap.get(cv2.CAP_PROP_FPS)\n",
    "                total = int(self.vidCap.get(cv2.CAP_PROP_FRAME_COUNT))\n",
    "                if verbose:\n",
    "                    print(\"Frames per second using video.get(cv2.CAP_PROP_FPS) : {0}\".format(fps))\n",
    "            \n",
    "            self.vidInfo = videoInfo(fps,total)\n",
    "            self.vidRunning = True\n",
    "        except:\n",
    "            self.vidCap.release()\n",
    "            self.vidRunning = False\n",
    "        return self.vidRunning\n",
    "    def initVideoOut(self, frameSize=[], verbose=True):\n",
    "        if not self.vidRunning:\n",
    "            print('no input video, please openVid first')\n",
    "        if len(frameSize) == 0:\n",
    "            if verbose:\n",
    "                print('no framesize is specify use the input video framesize')\n",
    "                frame.shape[1], frame.shape[0]\n",
    "            if len(curFrame) == 0:\n",
    "                print('Cannot obtain current frame info, please readFrame first')\n",
    "                return False\n",
    "            frameSize = self.curFrame.shape[1], self.curFrame[0]\n",
    "    def readFrame(self, verbose=True):\n",
    "        if not self.vidRunning:\n",
    "            print('no video is capturing right now')\n",
    "            return False, []\n",
    "\n",
    "        ret, self.curFrame =  self.vidCap.read()\n",
    "        if not ret:\n",
    "            if verbose:\n",
    "                print('the capturing video is reaching the end, the video will now release')\n",
    "            self.vidCap.release()\n",
    "            self.vidRunning = ret\n",
    "\n",
    "        return ret, self.curFrames\n",
    "    def closeVideo(self, verbose=True):\n",
    "        self.vidCap.release()\n",
    "        self.vidRunning = False\n",
    "        self.curFrame = []\n"
   ]
  },
  {
   "cell_type": "code",
   "execution_count": 4,
   "metadata": {},
   "outputs": [
    {
     "ename": "AttributeError",
     "evalue": "'videoHandle' object has no attribute 'vidIndex'",
     "output_type": "error",
     "traceback": [
      "\u001b[0;31m---------------------------------------------------------------------------\u001b[0m",
      "\u001b[0;31mAttributeError\u001b[0m                            Traceback (most recent call last)",
      "\u001b[0;32m<ipython-input-4-52fe59c3e6a8>\u001b[0m in \u001b[0;36m<module>\u001b[0;34m()\u001b[0m\n\u001b[0;32m----> 1\u001b[0;31m \u001b[0mvidHand\u001b[0m \u001b[0;34m=\u001b[0m \u001b[0mvideoHandle\u001b[0m\u001b[0;34m(\u001b[0m\u001b[0;34m)\u001b[0m\u001b[0;34m\u001b[0m\u001b[0m\n\u001b[0m\u001b[1;32m      2\u001b[0m \u001b[0mvidHand\u001b[0m\u001b[0;34m.\u001b[0m\u001b[0mgetVideoList\u001b[0m\u001b[0;34m(\u001b[0m\u001b[0;34m'./video_in/'\u001b[0m\u001b[0;34m)\u001b[0m\u001b[0;34m\u001b[0m\u001b[0m\n",
      "\u001b[0;32m<ipython-input-3-136ad8ca7681>\u001b[0m in \u001b[0;36m__init__\u001b[0;34m(self, verbose)\u001b[0m\n\u001b[1;32m     24\u001b[0m \u001b[0;34m\u001b[0m\u001b[0m\n\u001b[1;32m     25\u001b[0m         \u001b[0;32mif\u001b[0m \u001b[0mverbose\u001b[0m\u001b[0;34m:\u001b[0m\u001b[0;34m\u001b[0m\u001b[0m\n\u001b[0;32m---> 26\u001b[0;31m             \u001b[0mprint\u001b[0m\u001b[0;34m(\u001b[0m\u001b[0;34m'initiate empyt video handle with index at '\u001b[0m \u001b[0;34m+\u001b[0m \u001b[0mstr\u001b[0m\u001b[0;34m(\u001b[0m\u001b[0mself\u001b[0m\u001b[0;34m.\u001b[0m\u001b[0mvidIndex\u001b[0m\u001b[0;34m)\u001b[0m\u001b[0;34m)\u001b[0m\u001b[0;34m\u001b[0m\u001b[0m\n\u001b[0m\u001b[1;32m     27\u001b[0m \u001b[0;34m\u001b[0m\u001b[0m\n\u001b[1;32m     28\u001b[0m     \u001b[0;32mdef\u001b[0m \u001b[0mgetVideoList\u001b[0m\u001b[0;34m(\u001b[0m\u001b[0mself\u001b[0m\u001b[0;34m,\u001b[0m \u001b[0mfilePath\u001b[0m\u001b[0;34m,\u001b[0m \u001b[0mfileExtension\u001b[0m\u001b[0;34m=\u001b[0m\u001b[0;34m[\u001b[0m\u001b[0;34m'avi'\u001b[0m\u001b[0;34m]\u001b[0m\u001b[0;34m,\u001b[0m \u001b[0mverbose\u001b[0m\u001b[0;34m=\u001b[0m\u001b[0;32mTrue\u001b[0m\u001b[0;34m)\u001b[0m\u001b[0;34m:\u001b[0m\u001b[0;34m\u001b[0m\u001b[0m\n",
      "\u001b[0;31mAttributeError\u001b[0m: 'videoHandle' object has no attribute 'vidIndex'"
     ]
    }
   ],
   "source": [
    "vidHand = videoHandle()\n",
    "vidHand.getVideoList('./video_in/')"
   ]
  },
  {
   "cell_type": "code",
   "execution_count": 4,
   "metadata": {},
   "outputs": [
    {
     "ename": "AttributeError",
     "evalue": "'vidCollector' object has no attribute 'vidIndex'",
     "output_type": "error",
     "traceback": [
      "\u001b[0;31m---------------------------------------------------------------------------\u001b[0m",
      "\u001b[0;31mAttributeError\u001b[0m                            Traceback (most recent call last)",
      "\u001b[0;32m<ipython-input-4-3131964c7bb4>\u001b[0m in \u001b[0;36m<module>\u001b[0;34m()\u001b[0m\n\u001b[0;32m----> 1\u001b[0;31m \u001b[0mvidHand\u001b[0m \u001b[0;34m=\u001b[0m \u001b[0mvideoHandle\u001b[0m\u001b[0;34m(\u001b[0m\u001b[0;34m)\u001b[0m\u001b[0;34m\u001b[0m\u001b[0m\n\u001b[0m",
      "\u001b[0;32m<ipython-input-1-5645f3bcecf7>\u001b[0m in \u001b[0;36m__init__\u001b[0;34m(self, verbose)\u001b[0m\n\u001b[1;32m     16\u001b[0m         \u001b[0mself\u001b[0m\u001b[0;34m.\u001b[0m\u001b[0mvid_out\u001b[0m \u001b[0;34m=\u001b[0m \u001b[0mvidCollector\u001b[0m\u001b[0;34m(\u001b[0m\u001b[0;34m)\u001b[0m\u001b[0;34m\u001b[0m\u001b[0m\n\u001b[1;32m     17\u001b[0m         \u001b[0;32mif\u001b[0m \u001b[0mverbose\u001b[0m\u001b[0;34m:\u001b[0m\u001b[0;34m\u001b[0m\u001b[0m\n\u001b[0;32m---> 18\u001b[0;31m             \u001b[0mprint\u001b[0m\u001b[0;34m(\u001b[0m\u001b[0;34m'initiate empyt video handle with index at '\u001b[0m \u001b[0;34m+\u001b[0m \u001b[0mstr\u001b[0m\u001b[0;34m(\u001b[0m\u001b[0mself\u001b[0m\u001b[0;34m.\u001b[0m\u001b[0mvid_in\u001b[0m\u001b[0;34m.\u001b[0m\u001b[0mvidIndex\u001b[0m\u001b[0;34m)\u001b[0m\u001b[0;34m)\u001b[0m\u001b[0;34m\u001b[0m\u001b[0m\n\u001b[0m\u001b[1;32m     19\u001b[0m \u001b[0;34m\u001b[0m\u001b[0m\n\u001b[1;32m     20\u001b[0m     \u001b[0;32mdef\u001b[0m \u001b[0mgetVideoList\u001b[0m\u001b[0;34m(\u001b[0m\u001b[0mself\u001b[0m\u001b[0;34m,\u001b[0m \u001b[0mfilePath\u001b[0m\u001b[0;34m,\u001b[0m \u001b[0mfileExtension\u001b[0m\u001b[0;34m=\u001b[0m\u001b[0;34m[\u001b[0m\u001b[0;34m'avi'\u001b[0m\u001b[0;34m]\u001b[0m\u001b[0;34m,\u001b[0m \u001b[0mverbose\u001b[0m\u001b[0;34m=\u001b[0m\u001b[0;32mTrue\u001b[0m\u001b[0;34m)\u001b[0m\u001b[0;34m:\u001b[0m\u001b[0;34m\u001b[0m\u001b[0m\n",
      "\u001b[0;31mAttributeError\u001b[0m: 'vidCollector' object has no attribute 'vidIndex'"
     ]
    }
   ],
   "source": [
    "vidHand = videoHandle()"
   ]
  },
  {
   "cell_type": "code",
   "execution_count": 22,
   "metadata": {},
   "outputs": [
    {
     "name": "stdout",
     "output_type": "stream",
     "text": [
      "no video is capturing right now\n"
     ]
    },
    {
     "data": {
      "text/plain": [
       "(False, [])"
      ]
     },
     "execution_count": 22,
     "metadata": {},
     "output_type": "execute_result"
    }
   ],
   "source": [
    "vidHand.readFrame()"
   ]
  },
  {
   "cell_type": "code",
   "execution_count": 21,
   "metadata": {},
   "outputs": [],
   "source": [
    "vidHand.closeVideo()"
   ]
  },
  {
   "cell_type": "code",
   "execution_count": 23,
   "metadata": {},
   "outputs": [
    {
     "name": "stdout",
     "output_type": "stream",
     "text": [
      "['./video_in/HeartRate_2.avi']\n"
     ]
    }
   ],
   "source": [
    "print(vidHand.vidList)"
   ]
  },
  {
   "cell_type": "code",
   "execution_count": 24,
   "metadata": {},
   "outputs": [
    {
     "name": "stdout",
     "output_type": "stream",
     "text": [
      "['./video_in/HeartRate_2.avi']\n"
     ]
    }
   ],
   "source": [
    "a = vidHand.vidList\n",
    "print(a)"
   ]
  },
  {
   "cell_type": "code",
   "execution_count": 26,
   "metadata": {},
   "outputs": [
    {
     "name": "stdout",
     "output_type": "stream",
     "text": [
      "./video_in\n"
     ]
    }
   ],
   "source": [
    "b = os.path.dirname(a[0])\n",
    "print(b)"
   ]
  },
  {
   "cell_type": "code",
   "execution_count": 27,
   "metadata": {},
   "outputs": [
    {
     "name": "stdout",
     "output_type": "stream",
     "text": [
      ".\n"
     ]
    }
   ],
   "source": [
    "c = os.path.dirname(b)\n",
    "print(c)"
   ]
  },
  {
   "cell_type": "code",
   "execution_count": 6,
   "metadata": {},
   "outputs": [
    {
     "ename": "TypeError",
     "evalue": "len() of unsized object",
     "output_type": "error",
     "traceback": [
      "\u001b[0;31m---------------------------------------------------------------------------\u001b[0m",
      "\u001b[0;31mTypeError\u001b[0m                                 Traceback (most recent call last)",
      "\u001b[0;32m<ipython-input-6-91da5000a8cd>\u001b[0m in \u001b[0;36m<module>\u001b[0;34m()\u001b[0m\n\u001b[1;32m      1\u001b[0m \u001b[0;32mimport\u001b[0m \u001b[0mnumpy\u001b[0m \u001b[0;32mas\u001b[0m \u001b[0mnp\u001b[0m\u001b[0;34m\u001b[0m\u001b[0m\n\u001b[1;32m      2\u001b[0m \u001b[0ma\u001b[0m \u001b[0;34m=\u001b[0m \u001b[0mnp\u001b[0m\u001b[0;34m.\u001b[0m\u001b[0mempty\u001b[0m\u001b[0;34m(\u001b[0m\u001b[0;34m[\u001b[0m\u001b[0;34m]\u001b[0m\u001b[0;34m)\u001b[0m\u001b[0;34m\u001b[0m\u001b[0m\n\u001b[0;32m----> 3\u001b[0;31m \u001b[0mprint\u001b[0m\u001b[0;34m(\u001b[0m\u001b[0mlen\u001b[0m\u001b[0;34m(\u001b[0m\u001b[0ma\u001b[0m\u001b[0;34m)\u001b[0m\u001b[0;34m)\u001b[0m\u001b[0;34m\u001b[0m\u001b[0m\n\u001b[0m",
      "\u001b[0;31mTypeError\u001b[0m: len() of unsized object"
     ]
    }
   ],
   "source": [
    "import numpy as np\n",
    "a = \n",
    "print(len(a))"
   ]
  },
  {
   "cell_type": "code",
   "execution_count": null,
   "metadata": {},
   "outputs": [],
   "source": []
  }
 ],
 "metadata": {
  "kernelspec": {
   "display_name": "Python 3",
   "language": "python",
   "name": "python3"
  },
  "language_info": {
   "codemirror_mode": {
    "name": "ipython",
    "version": 3
   },
   "file_extension": ".py",
   "mimetype": "text/x-python",
   "name": "python",
   "nbconvert_exporter": "python",
   "pygments_lexer": "ipython3",
   "version": "3.5.5"
  }
 },
 "nbformat": 4,
 "nbformat_minor": 2
}
